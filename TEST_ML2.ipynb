{
 "cells": [
  {
   "cell_type": "code",
   "execution_count": 21,
   "id": "4424b4eb",
   "metadata": {},
   "outputs": [],
   "source": [
    "import joblib\n",
    "import pandas as pd"
   ]
  },
  {
   "cell_type": "code",
   "execution_count": 22,
   "id": "05345d35",
   "metadata": {},
   "outputs": [],
   "source": [
    "file_name = 'Random_forest_model.sav'\n",
    "sav_model = joblib.load(file_name)"
   ]
  },
  {
   "cell_type": "code",
   "execution_count": 23,
   "id": "72810e84",
   "metadata": {},
   "outputs": [
    {
     "data": {
      "text/html": [
       "<div>\n",
       "<style scoped>\n",
       "    .dataframe tbody tr th:only-of-type {\n",
       "        vertical-align: middle;\n",
       "    }\n",
       "\n",
       "    .dataframe tbody tr th {\n",
       "        vertical-align: top;\n",
       "    }\n",
       "\n",
       "    .dataframe thead th {\n",
       "        text-align: right;\n",
       "    }\n",
       "</style>\n",
       "<table border=\"1\" class=\"dataframe\">\n",
       "  <thead>\n",
       "    <tr style=\"text-align: right;\">\n",
       "      <th></th>\n",
       "      <th>datetime</th>\n",
       "      <th>season</th>\n",
       "      <th>holiday</th>\n",
       "      <th>workingday</th>\n",
       "      <th>weather</th>\n",
       "      <th>temp</th>\n",
       "      <th>atemp</th>\n",
       "      <th>humidity</th>\n",
       "      <th>windspeed</th>\n",
       "      <th>casual</th>\n",
       "      <th>registered</th>\n",
       "    </tr>\n",
       "  </thead>\n",
       "  <tbody>\n",
       "    <tr>\n",
       "      <th>0</th>\n",
       "      <td>30-06-2012 01:00</td>\n",
       "      <td>3</td>\n",
       "      <td>0</td>\n",
       "      <td>0</td>\n",
       "      <td>3</td>\n",
       "      <td>26.24</td>\n",
       "      <td>28.79</td>\n",
       "      <td>89</td>\n",
       "      <td>15.0013</td>\n",
       "      <td>3</td>\n",
       "      <td>55</td>\n",
       "    </tr>\n",
       "    <tr>\n",
       "      <th>1</th>\n",
       "      <td>30-06-2012 02:00</td>\n",
       "      <td>3</td>\n",
       "      <td>0</td>\n",
       "      <td>0</td>\n",
       "      <td>2</td>\n",
       "      <td>26.24</td>\n",
       "      <td>28.79</td>\n",
       "      <td>89</td>\n",
       "      <td>0.0000</td>\n",
       "      <td>7</td>\n",
       "      <td>54</td>\n",
       "    </tr>\n",
       "    <tr>\n",
       "      <th>2</th>\n",
       "      <td>30-06-2012 03:00</td>\n",
       "      <td>3</td>\n",
       "      <td>0</td>\n",
       "      <td>0</td>\n",
       "      <td>2</td>\n",
       "      <td>26.24</td>\n",
       "      <td>28.79</td>\n",
       "      <td>89</td>\n",
       "      <td>0.0000</td>\n",
       "      <td>3</td>\n",
       "      <td>20</td>\n",
       "    </tr>\n",
       "  </tbody>\n",
       "</table>\n",
       "</div>"
      ],
      "text/plain": [
       "           datetime  season  holiday  workingday  weather   temp  atemp  \\\n",
       "0  30-06-2012 01:00       3        0           0        3  26.24  28.79   \n",
       "1  30-06-2012 02:00       3        0           0        2  26.24  28.79   \n",
       "2  30-06-2012 03:00       3        0           0        2  26.24  28.79   \n",
       "\n",
       "   humidity  windspeed  casual  registered  \n",
       "0        89    15.0013       3          55  \n",
       "1        89     0.0000       7          54  \n",
       "2        89     0.0000       3          20  "
      ]
     },
     "execution_count": 23,
     "metadata": {},
     "output_type": "execute_result"
    }
   ],
   "source": [
    "## loading the test data-set\n",
    "data2 = pd.read_csv('test.csv')\n",
    "data2.head(3)"
   ]
  },
  {
   "cell_type": "markdown",
   "id": "e87894b5",
   "metadata": {},
   "source": [
    "## Preperation the test data"
   ]
  },
  {
   "cell_type": "code",
   "execution_count": 24,
   "id": "a52d7912",
   "metadata": {},
   "outputs": [
    {
     "data": {
      "text/plain": [
       "0"
      ]
     },
     "execution_count": 24,
     "metadata": {},
     "output_type": "execute_result"
    }
   ],
   "source": [
    "## Seeing if there are any dublicates.\n",
    "data2.duplicated().sum()"
   ]
  },
  {
   "cell_type": "code",
   "execution_count": 25,
   "id": "ca69fd79",
   "metadata": {},
   "outputs": [
    {
     "data": {
      "text/plain": [
       "datetime      0\n",
       "season        0\n",
       "holiday       0\n",
       "workingday    0\n",
       "weather       0\n",
       "temp          0\n",
       "atemp         0\n",
       "humidity      0\n",
       "windspeed     0\n",
       "casual        0\n",
       "registered    0\n",
       "dtype: int64"
      ]
     },
     "execution_count": 25,
     "metadata": {},
     "output_type": "execute_result"
    }
   ],
   "source": [
    "## checking for the null value\n",
    "data2.isnull().sum()"
   ]
  },
  {
   "cell_type": "code",
   "execution_count": 26,
   "id": "22757a61",
   "metadata": {},
   "outputs": [
    {
     "name": "stdout",
     "output_type": "stream",
     "text": [
      "<class 'pandas.core.frame.DataFrame'>\n",
      "RangeIndex: 4399 entries, 0 to 4398\n",
      "Data columns (total 11 columns):\n",
      " #   Column      Non-Null Count  Dtype  \n",
      "---  ------      --------------  -----  \n",
      " 0   datetime    4399 non-null   object \n",
      " 1   season      4399 non-null   int64  \n",
      " 2   holiday     4399 non-null   int64  \n",
      " 3   workingday  4399 non-null   int64  \n",
      " 4   weather     4399 non-null   int64  \n",
      " 5   temp        4399 non-null   float64\n",
      " 6   atemp       4399 non-null   float64\n",
      " 7   humidity    4399 non-null   int64  \n",
      " 8   windspeed   4399 non-null   float64\n",
      " 9   casual      4399 non-null   int64  \n",
      " 10  registered  4399 non-null   int64  \n",
      "dtypes: float64(3), int64(7), object(1)\n",
      "memory usage: 378.2+ KB\n"
     ]
    }
   ],
   "source": [
    "data2.info()"
   ]
  },
  {
   "cell_type": "code",
   "execution_count": 27,
   "id": "fead9964",
   "metadata": {},
   "outputs": [],
   "source": [
    "# Convert the 'datetime' column to datetime format\n",
    "data2['datetime'] = pd.to_datetime(data2['datetime'])\n",
    "\n",
    "# Extract the year from the 'datetime' column and create a new 'year' column\n",
    "data2['year'] = data2['datetime'].dt.year\n",
    "\n",
    "# Extract the month as its name from the 'datetime' column and create a new 'month' column\n",
    "data2['month'] = data2['datetime'].dt.month_name()\n",
    "\n",
    "# Extract the day as its name from the 'datetime' column and create a new 'day' column\n",
    "data2['day'] = data2['datetime'].dt.day_name()\n",
    "\n",
    "# Extract the hour from the 'datetime' column and create a new 'hour' column\n",
    "data2['hour'] = data2['datetime'].dt.hour"
   ]
  },
  {
   "cell_type": "code",
   "execution_count": 28,
   "id": "d2697a79",
   "metadata": {},
   "outputs": [],
   "source": [
    "# Replace the values in the 'season' column with corresponding strings\n",
    "data2['season'].replace({1: 'Spring', 2: 'Summer', 3: 'Fall', 4: 'Winter'}, inplace=True)\n",
    "\n",
    "# Replace the values in the 'holiday' column with corresponding strings\n",
    "data2['holiday'].replace({1: 'Holiday', 0: 'Not Holiday'}, inplace=True)\n",
    "\n",
    "# Replace the values in the 'workingday' column with corresponding strings\n",
    "data2['workingday'].replace({1: 'Workingday', 0: 'Not Workingday'}, inplace=True)\n",
    "\n",
    "# Replace the values in the 'weather' column with corresponding strings\n",
    "data2['weather'].replace({1: 'Clear', 2: 'Mist', 3: 'Rain', 4: 'Snow'}, inplace=True)"
   ]
  },
  {
   "cell_type": "code",
   "execution_count": 29,
   "id": "106c1d84",
   "metadata": {},
   "outputs": [],
   "source": [
    "# Define a mapping dictionary to combine the clusters\n",
    "cluster_mapping = {\"Snow\" : \"Rain\"}\n",
    "\n",
    "# Update the \"grade\" column with the new cluster labels\n",
    "data2['weather'] = data2['weather'].replace(cluster_mapping)"
   ]
  },
  {
   "cell_type": "code",
   "execution_count": 30,
   "id": "f1a2cec9",
   "metadata": {},
   "outputs": [
    {
     "data": {
      "text/html": [
       "<div>\n",
       "<style scoped>\n",
       "    .dataframe tbody tr th:only-of-type {\n",
       "        vertical-align: middle;\n",
       "    }\n",
       "\n",
       "    .dataframe tbody tr th {\n",
       "        vertical-align: top;\n",
       "    }\n",
       "\n",
       "    .dataframe thead th {\n",
       "        text-align: right;\n",
       "    }\n",
       "</style>\n",
       "<table border=\"1\" class=\"dataframe\">\n",
       "  <thead>\n",
       "    <tr style=\"text-align: right;\">\n",
       "      <th></th>\n",
       "      <th>temp</th>\n",
       "      <th>atemp</th>\n",
       "      <th>humidity</th>\n",
       "      <th>windspeed</th>\n",
       "    </tr>\n",
       "  </thead>\n",
       "  <tbody>\n",
       "    <tr>\n",
       "      <th>count</th>\n",
       "      <td>4399.000000</td>\n",
       "      <td>4399.000000</td>\n",
       "      <td>4399.000000</td>\n",
       "      <td>4399.000000</td>\n",
       "    </tr>\n",
       "    <tr>\n",
       "      <th>mean</th>\n",
       "      <td>22.297513</td>\n",
       "      <td>25.784351</td>\n",
       "      <td>63.797909</td>\n",
       "      <td>11.540867</td>\n",
       "    </tr>\n",
       "    <tr>\n",
       "      <th>std</th>\n",
       "      <td>7.775455</td>\n",
       "      <td>8.400126</td>\n",
       "      <td>17.118806</td>\n",
       "      <td>7.680410</td>\n",
       "    </tr>\n",
       "    <tr>\n",
       "      <th>min</th>\n",
       "      <td>5.740000</td>\n",
       "      <td>7.575000</td>\n",
       "      <td>16.000000</td>\n",
       "      <td>0.000000</td>\n",
       "    </tr>\n",
       "    <tr>\n",
       "      <th>25%</th>\n",
       "      <td>14.760000</td>\n",
       "      <td>18.180000</td>\n",
       "      <td>50.000000</td>\n",
       "      <td>7.001500</td>\n",
       "    </tr>\n",
       "    <tr>\n",
       "      <th>50%</th>\n",
       "      <td>22.960000</td>\n",
       "      <td>26.515000</td>\n",
       "      <td>65.000000</td>\n",
       "      <td>11.001400</td>\n",
       "    </tr>\n",
       "    <tr>\n",
       "      <th>75%</th>\n",
       "      <td>28.700000</td>\n",
       "      <td>32.575000</td>\n",
       "      <td>78.000000</td>\n",
       "      <td>16.997900</td>\n",
       "    </tr>\n",
       "    <tr>\n",
       "      <th>max</th>\n",
       "      <td>41.000000</td>\n",
       "      <td>45.455000</td>\n",
       "      <td>100.000000</td>\n",
       "      <td>43.998900</td>\n",
       "    </tr>\n",
       "  </tbody>\n",
       "</table>\n",
       "</div>"
      ],
      "text/plain": [
       "              temp        atemp     humidity    windspeed\n",
       "count  4399.000000  4399.000000  4399.000000  4399.000000\n",
       "mean     22.297513    25.784351    63.797909    11.540867\n",
       "std       7.775455     8.400126    17.118806     7.680410\n",
       "min       5.740000     7.575000    16.000000     0.000000\n",
       "25%      14.760000    18.180000    50.000000     7.001500\n",
       "50%      22.960000    26.515000    65.000000    11.001400\n",
       "75%      28.700000    32.575000    78.000000    16.997900\n",
       "max      41.000000    45.455000   100.000000    43.998900"
      ]
     },
     "execution_count": 30,
     "metadata": {},
     "output_type": "execute_result"
    }
   ],
   "source": [
    "# Numerical columns.\n",
    "numerical_features = data2[['temp', 'atemp', 'humidity', 'windspeed']]\n",
    "\n",
    "# calculate descriptive statistics for numerical values.\n",
    "numerical_features.describe()"
   ]
  },
  {
   "cell_type": "code",
   "execution_count": 31,
   "id": "920079f4",
   "metadata": {},
   "outputs": [],
   "source": [
    "# Replace zero 'windspeed' with the values above or below\n",
    "data2['windspeed'] = data2['windspeed'].replace(0, method='ffill').replace(0, method='bfill')"
   ]
  },
  {
   "cell_type": "code",
   "execution_count": 32,
   "id": "f5759e91",
   "metadata": {},
   "outputs": [],
   "source": [
    "#Store the datetime column in a separate variable.\n",
    "datetime = data2['datetime']"
   ]
  },
  {
   "cell_type": "code",
   "execution_count": 33,
   "id": "66e0802c",
   "metadata": {},
   "outputs": [],
   "source": [
    "## dropping the columns \n",
    "data2.drop(['datetime', 'atemp', 'windspeed'], axis=1, inplace=True)"
   ]
  },
  {
   "cell_type": "code",
   "execution_count": 34,
   "id": "fa334e90",
   "metadata": {},
   "outputs": [],
   "source": [
    "from sklearn.preprocessing import LabelEncoder, StandardScaler"
   ]
  },
  {
   "cell_type": "code",
   "execution_count": 35,
   "id": "dbae9b0e",
   "metadata": {},
   "outputs": [],
   "source": [
    "# One hot Endocing .\n",
    "data2 = pd.get_dummies(data2, columns=['season', 'weather', 'month', 'day'])\n",
    "\n",
    "# Label Encoding.\n",
    "label_encoder = LabelEncoder()\n",
    "\n",
    "for i in ['holiday', 'workingday', 'year']:\n",
    "    data2[i] = label_encoder.fit_transform(data2[i])"
   ]
  },
  {
   "cell_type": "code",
   "execution_count": 36,
   "id": "e4197377",
   "metadata": {},
   "outputs": [],
   "source": [
    "# List of columns to scale\n",
    "columns_to_scale = ['temp', 'humidity', 'hour']\n",
    "\n",
    "# Create a StandardScaler object\n",
    "scaler = StandardScaler()\n",
    "\n",
    "# Fit the StandardScaler on the selected columns to calculate mean and standard deviation\n",
    "scaler.fit(data2[columns_to_scale])\n",
    "\n",
    "# Transform the selected columns using the calculated mean and standard deviation\n",
    "data2[columns_to_scale] = scaler.transform(data2[columns_to_scale])"
   ]
  },
  {
   "cell_type": "code",
   "execution_count": 37,
   "id": "100cce4d",
   "metadata": {},
   "outputs": [
    {
     "name": "stdout",
     "output_type": "stream",
     "text": [
      "\n"
     ]
    }
   ],
   "source": [
    "test_pred = sav_model.predict(data2)"
   ]
  },
  {
   "cell_type": "code",
   "execution_count": 38,
   "id": "79ec2963",
   "metadata": {},
   "outputs": [
    {
     "name": "stdout",
     "output_type": "stream",
     "text": [
      "\n"
     ]
    }
   ],
   "source": [
    "# Create a DataFrame with the 'datetime' column and predicted rental counts.\n",
    "final_data = pd.DataFrame({'datetime': datetime, 'count': test_pred})"
   ]
  },
  {
   "cell_type": "code",
   "execution_count": 39,
   "id": "2a2be433",
   "metadata": {},
   "outputs": [
    {
     "name": "stdout",
     "output_type": "stream",
     "text": [
      "\n"
     ]
    }
   ],
   "source": [
    "## saving the DataFrame\n",
    "final_data.to_csv('final_data', index=False)"
   ]
  },
  {
   "cell_type": "code",
   "execution_count": null,
   "id": "2d5f7ae7",
   "metadata": {},
   "outputs": [],
   "source": []
  }
 ],
 "metadata": {
  "kernelspec": {
   "display_name": "Python 3",
   "language": "python",
   "name": "python3"
  },
  "language_info": {
   "codemirror_mode": {
    "name": "ipython",
    "version": 3
   },
   "file_extension": ".py",
   "mimetype": "text/x-python",
   "name": "python",
   "nbconvert_exporter": "python",
   "pygments_lexer": "ipython3",
   "version": "3.8.8"
  }
 },
 "nbformat": 4,
 "nbformat_minor": 5
}
